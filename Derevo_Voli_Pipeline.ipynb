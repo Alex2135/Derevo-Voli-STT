{
  "nbformat": 4,
  "nbformat_minor": 0,
  "metadata": {
    "colab": {
      "provenance": [],
      "authorship_tag": "ABX9TyMcw0CFrQ3mIgmHgm/u2SUI",
      "include_colab_link": true
    },
    "kernelspec": {
      "name": "python3",
      "display_name": "Python 3"
    },
    "language_info": {
      "name": "python"
    }
  },
  "cells": [
    {
      "cell_type": "markdown",
      "metadata": {
        "id": "view-in-github",
        "colab_type": "text"
      },
      "source": [
        "<a href=\"https://colab.research.google.com/github/Alex2135/Derevo-Voli-STT/blob/main/Derevo_Voli_Pipeline.ipynb\" target=\"_parent\"><img src=\"https://colab.research.google.com/assets/colab-badge.svg\" alt=\"Open In Colab\"/></a>"
      ]
    },
    {
      "cell_type": "code",
      "source": [
        "#@title Dependencies installation\n",
        "#@markdown \n",
        "#@markdown Execute this cell for the proper work of the modules below\n",
        "!pip3 install git+https://github.com/ytdl-org/youtube-dl.git@master#egg=youtube_dl\n",
        "!pip3 install git+https://github.com/openai/whisper.git"
      ],
      "metadata": {
        "cellView": "form",
        "id": "ETw-EF55mlIG"
      },
      "execution_count": null,
      "outputs": []
    },
    {
      "cell_type": "code",
      "source": [
        "#@title Download video from YouTube\n",
        "#@markdown \n",
        "#@markdown Paste your URL to the YouTube video\n",
        "video_url = \"https://www.youtube.com/watch?v=R7nXOAm5gxU\" #@param {title: \"Video URL\", type:\"string\"}\n",
        "\n",
        "!youtube-dl -i --extract-audio\\\n",
        "-o \"sound.mp3\"\\\n",
        "--audio-format mp3\\\n",
        "--audio-quality 0\\\n",
        "{video_url}"
      ],
      "metadata": {
        "cellView": "form",
        "id": "8fi3gDtuUBsB"
      },
      "execution_count": null,
      "outputs": []
    },
    {
      "cell_type": "code",
      "source": [
        "#@title Model size\n",
        "#@markdown \n",
        "#@markdown Choose the model size. The bigger model the higher accuracy.\n",
        "#@markdown But the process will last longer\n",
        "model_size = \"medium\" #@param [\"tiny\", \"base\", \"small\", \"medium\", \"large\"]\n",
        "\n",
        "!whisper sound.mp3\\\n",
        "--output_format all\\\n",
        "--output_dir transcribed_text\\\n",
        "--model {model_size}\\\n",
        "--language English"
      ],
      "metadata": {
        "colab": {
          "base_uri": "https://localhost:8080/"
        },
        "cellView": "form",
        "id": "wqpsU9THnH5S",
        "outputId": "c5ec4ad5-6c0e-4b2b-a083-7d17edf6cffa"
      },
      "execution_count": null,
      "outputs": [
        {
          "output_type": "stream",
          "name": "stdout",
          "text": [
            "/usr/local/lib/python3.9/dist-packages/whisper/transcribe.py:114: UserWarning: FP16 is not supported on CPU; using FP32 instead\n",
            "  warnings.warn(\"FP16 is not supported on CPU; using FP32 instead\")\n",
            "[00:00.000 --> 00:09.840]  The Great Depression persuaded the public that private enterprise was a fundamentally unstable\n",
            "[00:09.840 --> 00:15.600]  system, that the depression represented a failure of free market capitalism, that the government\n",
            "[00:15.600 --> 00:22.000]  had to step in to perform the essential function of stabilizing the economy, of providing\n",
            "[00:22.000 --> 00:28.680]  security for its citizens. The widespread acceptance of these views sparked the enormous growth\n",
            "[00:28.680 --> 00:33.240]  in the power of government that has occurred in the decade since, and that it's still\n",
            "[00:33.240 --> 00:40.520]  going on. We now know that the truth about the depression was very different. The depression\n",
            "[00:40.520 --> 00:49.000]  was made far worse by perverse monetary policies followed by the US authorities. Ever since,\n",
            "[00:49.000 --> 00:55.080]  government has been attempting to fine-tune the economy. In practice, justice during the\n",
            "[00:55.080 --> 01:03.240]  depression, far from promoting stability. The government has itself been the major single source\n",
            "[01:03.240 --> 01:03.880]  of instability.\n"
          ]
        }
      ]
    },
    {
      "cell_type": "code",
      "source": [
        "# Павло Щербина\n",
        "# TODO: Show the sound.srt file content for the editing"
      ],
      "metadata": {
        "id": "uZP3t9LUje_s"
      },
      "execution_count": null,
      "outputs": []
    },
    {
      "cell_type": "code",
      "source": [
        "# Павло Щербина\n",
        "# Status: Done\n",
        "# Use sound.txt file for translation"
      ],
      "metadata": {
        "id": "_R8V5qh7v6ay"
      },
      "execution_count": null,
      "outputs": []
    },
    {
      "cell_type": "code",
      "source": [
        "# Я\n",
        "# Status: TODO\n",
        "# Convert sound.json file to audio clips\n",
        "# \n",
        "\n",
        "# Get text:\n",
        "# [00:00.000 --> 00:09.840]  The Great Depression persuaded the public that private enterprise was a fundamentally unstable\n",
        "# [00:09.840 --> 00:15.600]  system, that the depression represented a failure of free market capitalism, that the government\n",
        "# [00:15.600 --> 00:22.000]  had to step in to perform the essential function of stabilizing the economy, of providing\n",
        "# [00:22.000 --> 00:28.680]  security for its citizens. The widespread acceptance of these views sparked the enormous growth\n",
        "# [00:28.680 --> 00:33.240]  in the power of government that has occurred in the decade since, and that it's still\n",
        "# [00:33.240 --> 00:40.520]  going on. We now know that the truth about the depression was very different. The depression\n",
        "# [00:40.520 --> 00:49.000]  was made far worse by perverse monetary policies followed by the US authorities. Ever since,\n",
        "# [00:49.000 --> 00:55.080]  government has been attempting to fine-tune the economy. In practice, justice during the\n",
        "# [00:55.080 --> 01:03.240]  depression, far from promoting stability. The government has itself been the major single source\n",
        "# [01:03.240 --> 01:03.880]  of instability.\n",
        "\n",
        "\n",
        "# Separate text by sentences\n",
        "# [00:00.000 --> 00:09.840]  The Great Depression persuaded the public that private enterprise was a fundamentally unstable\n",
        "# [00:09.840 --> 00:15.600]  system, that the depression represented a failure of free market capitalism, that the government\n",
        "# [00:15.600 --> 00:22.000]  had to step in to perform the essential function of stabilizing the economy, of providing\n",
        "# [00:22.000 --> 00:28.680]  security for its citizens. \n",
        "\n",
        "# [00:22.000 --> 00:28.680]  security for its citizens. The widespread acceptance of these views sparked the enormous growth\n",
        "# [00:28.680 --> 00:33.240]  in the power of government that has occurred in the decade since, and that it's still\n",
        "# [00:33.240 --> 00:40.520]  going on. We now know that the truth about the depression was very different.\n",
        "\n",
        "# [00:33.240 --> 00:40.520]  going on. We now know that the truth about the depression was very different. The depression\n",
        "# [00:40.520 --> 00:49.000]  was made far worse by perverse monetary policies followed by the US authorities.\n",
        "\n",
        "# [00:40.520 --> 00:49.000]  was made far worse by perverse monetary policies followed by the US authorities. Ever since,\n",
        "# [00:49.000 --> 00:55.080]  government has been attempting to fine-tune the economy. In practice, justice during the\n",
        "# [00:55.080 --> 01:03.240]  depression, far from promoting stability.\n",
        "\n",
        "# [00:55.080 --> 01:03.240]  depression, far from promoting stability. The government has itself been the major single source\n",
        "# [01:03.240 --> 01:03.880]  of instability.\n",
        "\n",
        "\n",
        "# Calculate the percentage for previous sentenc ending and for the current.\n",
        "# Assign percentage of duration for each sentence."
      ],
      "metadata": {
        "id": "00IZJsYKh9Va"
      },
      "execution_count": null,
      "outputs": []
    },
    {
      "cell_type": "code",
      "source": [
        "# TODO: Generate audio-clips for each sentence"
      ],
      "metadata": {
        "id": "QNvdiwGCiCKS"
      },
      "execution_count": null,
      "outputs": []
    }
  ]
}